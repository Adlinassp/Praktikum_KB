{
 "cells": [
  {
   "cell_type": "markdown",
   "id": "6e8f25cf",
   "metadata": {},
   "source": [
    "# Posttest 7 : TensorFlow\n",
    "# Nama : Adlina Safa Sephia Putri\n",
    "# NIM : 2109106021"
   ]
  },
  {
   "cell_type": "markdown",
   "id": "0602427d",
   "metadata": {},
   "source": [
    "## Ketentuan :\n",
    "1. Buatlah sebuah tensor dengan shape(5,5) dengan nilai random yang disimpan dalam variable random_tensor.\n",
    "2. Buatlah sebuah tensor dengan shape(5,5) dari sebuah list dengan nilai bilangan prima dalam variable prime_tensor.\n",
    "3. Tampilkan dimensi dari kedua variable tersebut.\n",
    "4. Tampilkan hasil dari perhitungan aritmetika 2 variable tersebut (Gunakan minimal 5 operator).\n",
    "5. Tampilkan nilai maksimum dan minimum dari variable random_tensor.\n",
    "6. Tampilkan hasil dari penggabungan variable random_tensor dengan prime_tensor (concatenation)\n",
    "7. Tampilkan hasil sorting dari kedua variable di atas (descending)"
   ]
  },
  {
   "cell_type": "code",
   "execution_count": 2,
   "id": "1464068a",
   "metadata": {},
   "outputs": [],
   "source": [
    "import tensorflow as tf"
   ]
  },
  {
   "cell_type": "markdown",
   "id": "7aaa941d",
   "metadata": {},
   "source": [
    "### 1. Buatlah sebuah tensor dengan shape(5,5) dengan nilai random yang disimpan dalam variable random_tensor."
   ]
  },
  {
   "cell_type": "code",
   "execution_count": 3,
   "id": "bd04ee25",
   "metadata": {},
   "outputs": [
    {
     "data": {
      "text/plain": [
       "<tf.Tensor: shape=(5, 5), dtype=float32, numpy=\n",
       "array([[ 0.80157036, -0.76805395,  0.04750545,  0.60564154,  0.11260842],\n",
       "       [ 0.53367996,  1.586856  , -0.59431523, -0.96461004,  0.43951255],\n",
       "       [-0.7236123 ,  0.42185962, -2.035601  , -0.5865435 , -0.34588125],\n",
       "       [ 0.79031557,  0.21720563,  1.6272932 , -1.4197527 ,  1.8100669 ],\n",
       "       [ 0.09864461,  2.090741  , -0.05208602, -0.43903086,  0.19157891]],\n",
       "      dtype=float32)>"
      ]
     },
     "execution_count": 3,
     "metadata": {},
     "output_type": "execute_result"
    }
   ],
   "source": [
    "random_tensor = tf.random.normal([5,5])\n",
    "random_tensor"
   ]
  },
  {
   "cell_type": "markdown",
   "id": "5cf650db",
   "metadata": {},
   "source": [
    "### 2. Buatlah sebuah tensor dengan shape(5,5) dari sebuah list dengan nilai bilangan prima dalam variable prime_tensor."
   ]
  },
  {
   "cell_type": "code",
   "execution_count": 4,
   "id": "5c5cf1d7",
   "metadata": {},
   "outputs": [
    {
     "data": {
      "text/plain": [
       "<tf.Tensor: shape=(5, 5), dtype=float32, numpy=\n",
       "array([[ 2.,  3.,  5.,  7., 11.],\n",
       "       [13., 17., 19., 23., 29.],\n",
       "       [31., 37., 41., 43., 47.],\n",
       "       [53., 59., 61., 67., 71.],\n",
       "       [73., 79., 83., 89., 97.]], dtype=float32)>"
      ]
     },
     "execution_count": 4,
     "metadata": {},
     "output_type": "execute_result"
    }
   ],
   "source": [
    "prime_tensor = tf.constant([2, 3, 5, 7, 11,\n",
    "                            13, 17, 19, 23, 29,\n",
    "                            31, 37, 41, 43, 47,\n",
    "                            53, 59, 61, 67, 71,\n",
    "                            73, 79, 83, 89, 97], shape=[5, 5], dtype=tf.float32)\n",
    "prime_tensor"
   ]
  },
  {
   "cell_type": "markdown",
   "id": "d2ef14d5",
   "metadata": {},
   "source": [
    "### 3. Tampilkan dimensi dari kedua variable tersebut."
   ]
  },
  {
   "cell_type": "markdown",
   "id": "efa9791f",
   "metadata": {},
   "source": [
    "#### Dimensi Display Random_Tensor"
   ]
  },
  {
   "cell_type": "code",
   "execution_count": 5,
   "id": "bf0acf3d",
   "metadata": {},
   "outputs": [
    {
     "data": {
      "text/plain": [
       "TensorShape([5, 5])"
      ]
     },
     "execution_count": 5,
     "metadata": {},
     "output_type": "execute_result"
    }
   ],
   "source": [
    "dim_display_random = tf.constant(['random_tensor'], shape=[5,5])\n",
    "dim_display_random.shape"
   ]
  },
  {
   "cell_type": "code",
   "execution_count": 6,
   "id": "0ac98624",
   "metadata": {},
   "outputs": [
    {
     "data": {
      "text/plain": [
       "<tf.Tensor: shape=(2,), dtype=int32, numpy=array([5, 5])>"
      ]
     },
     "execution_count": 6,
     "metadata": {},
     "output_type": "execute_result"
    }
   ],
   "source": [
    "tf.shape(dim_display_random)"
   ]
  },
  {
   "cell_type": "markdown",
   "id": "1a811500",
   "metadata": {},
   "source": [
    "#### Dimensi Display Prime_Tensor"
   ]
  },
  {
   "cell_type": "code",
   "execution_count": 7,
   "id": "305eb880",
   "metadata": {},
   "outputs": [
    {
     "data": {
      "text/plain": [
       "TensorShape([5, 5])"
      ]
     },
     "execution_count": 7,
     "metadata": {},
     "output_type": "execute_result"
    }
   ],
   "source": [
    "dim_display_prime = tf.constant(['prime_tensor'], shape=[5,5])\n",
    "dim_display_prime.shape"
   ]
  },
  {
   "cell_type": "code",
   "execution_count": 8,
   "id": "7be5e6aa",
   "metadata": {},
   "outputs": [
    {
     "data": {
      "text/plain": [
       "<tf.Tensor: shape=(2,), dtype=int32, numpy=array([5, 5])>"
      ]
     },
     "execution_count": 8,
     "metadata": {},
     "output_type": "execute_result"
    }
   ],
   "source": [
    "tf.shape(dim_display_prime)"
   ]
  },
  {
   "cell_type": "markdown",
   "id": "c7133482",
   "metadata": {},
   "source": [
    "### 4. Tampilkan hasil dari perhitungan aritmetika 2 variable tersebut (Gunakan minimal 5 operator)."
   ]
  },
  {
   "cell_type": "markdown",
   "id": "a33b0626",
   "metadata": {},
   "source": [
    "#### Operator Penjumlahan"
   ]
  },
  {
   "cell_type": "code",
   "execution_count": 9,
   "id": "e9b8ade5",
   "metadata": {},
   "outputs": [
    {
     "name": "stdout",
     "output_type": "stream",
     "text": [
      "==============================================================\n",
      "Hasil Penjumlahan dari Variable RANDOM_TENSOR dan PRIME_TENSOR\n",
      "==============================================================\n"
     ]
    },
    {
     "data": {
      "text/plain": [
       "<tf.Tensor: shape=(5, 5), dtype=float32, numpy=\n",
       "array([[ 2.8015704,  2.231946 ,  5.0475054,  7.6056414, 11.112608 ],\n",
       "       [13.53368  , 18.586857 , 18.405685 , 22.03539  , 29.439512 ],\n",
       "       [30.276388 , 37.42186  , 38.964397 , 42.413456 , 46.654118 ],\n",
       "       [53.790314 , 59.217205 , 62.627293 , 65.580246 , 72.81007  ],\n",
       "       [73.09865  , 81.090744 , 82.947914 , 88.56097  , 97.19158  ]],\n",
       "      dtype=float32)>"
      ]
     },
     "execution_count": 9,
     "metadata": {},
     "output_type": "execute_result"
    }
   ],
   "source": [
    "print(\"==============================================================\")\n",
    "print(\"Hasil Penjumlahan dari Variable RANDOM_TENSOR dan PRIME_TENSOR\")\n",
    "print(\"==============================================================\")\n",
    "tf.add(random_tensor, prime_tensor)"
   ]
  },
  {
   "cell_type": "markdown",
   "id": "8d0f4d2d",
   "metadata": {},
   "source": [
    "#### Operator Pengurangan"
   ]
  },
  {
   "cell_type": "code",
   "execution_count": 10,
   "id": "ea239364",
   "metadata": {},
   "outputs": [
    {
     "name": "stdout",
     "output_type": "stream",
     "text": [
      "==============================================================\n",
      "Hasil Pengurangan dari Variable RANDOM_TENSOR dan PRIME_TENSOR\n",
      "==============================================================\n"
     ]
    },
    {
     "data": {
      "text/plain": [
       "<tf.Tensor: shape=(5, 5), dtype=float32, numpy=\n",
       "array([[ -1.1984296,  -3.768054 ,  -4.9524946,  -6.3943586, -10.887392 ],\n",
       "       [-12.46632  , -15.413144 , -19.594315 , -23.96461  , -28.560488 ],\n",
       "       [-31.723612 , -36.57814  , -43.035603 , -43.586544 , -47.345882 ],\n",
       "       [-52.209686 , -58.782795 , -59.372707 , -68.419754 , -69.18993  ],\n",
       "       [-72.90135  , -76.909256 , -83.052086 , -89.43903  , -96.80842  ]],\n",
       "      dtype=float32)>"
      ]
     },
     "execution_count": 10,
     "metadata": {},
     "output_type": "execute_result"
    }
   ],
   "source": [
    "print(\"==============================================================\")\n",
    "print(\"Hasil Pengurangan dari Variable RANDOM_TENSOR dan PRIME_TENSOR\")\n",
    "print(\"==============================================================\")\n",
    "tf.subtract(random_tensor, prime_tensor)"
   ]
  },
  {
   "cell_type": "markdown",
   "id": "23edb850",
   "metadata": {},
   "source": [
    "#### Operator Perkalian"
   ]
  },
  {
   "cell_type": "code",
   "execution_count": 11,
   "id": "be2560d3",
   "metadata": {},
   "outputs": [
    {
     "name": "stdout",
     "output_type": "stream",
     "text": [
      "==============================================================\n",
      "Hasil Perkalian dari Variable RANDOM_TENSOR dan PRIME_TENSOR\n",
      "==============================================================\n"
     ]
    },
    {
     "data": {
      "text/plain": [
       "<tf.Tensor: shape=(5, 5), dtype=float32, numpy=\n",
       "array([[  1.6031407 ,  -2.3041618 ,   0.23752727,   4.239491  ,\n",
       "          1.2386926 ],\n",
       "       [  6.9378395 ,  26.976553  , -11.291989  , -22.186031  ,\n",
       "         12.745864  ],\n",
       "       [-22.431982  ,  15.608806  , -83.45964   , -25.22137   ,\n",
       "        -16.256418  ],\n",
       "       [ 41.886726  ,  12.815132  ,  99.264885  , -95.12343   ,\n",
       "        128.51476   ],\n",
       "       [  7.201057  , 165.16853   ,  -4.3231397 , -39.073746  ,\n",
       "         18.583155  ]], dtype=float32)>"
      ]
     },
     "execution_count": 11,
     "metadata": {},
     "output_type": "execute_result"
    }
   ],
   "source": [
    "print(\"==============================================================\")\n",
    "print(\"Hasil Perkalian dari Variable RANDOM_TENSOR dan PRIME_TENSOR\")\n",
    "print(\"==============================================================\")\n",
    "tf.multiply(random_tensor, prime_tensor)"
   ]
  },
  {
   "cell_type": "markdown",
   "id": "202082e3",
   "metadata": {},
   "source": [
    "#### Operator Pembagian"
   ]
  },
  {
   "cell_type": "code",
   "execution_count": 12,
   "id": "cf6e021a",
   "metadata": {},
   "outputs": [
    {
     "name": "stdout",
     "output_type": "stream",
     "text": [
      "==============================================================\n",
      "Hasil Pembagian dari Variable RANDOM_TENSOR dan PRIME_TENSOR\n",
      "==============================================================\n"
     ]
    },
    {
     "data": {
      "text/plain": [
       "<tf.Tensor: shape=(5, 5), dtype=float32, numpy=\n",
       "array([[ 0.40078518, -0.25601798,  0.00950109,  0.08652022,  0.01023713],\n",
       "       [ 0.0410523 ,  0.09334447, -0.03127975, -0.04193957,  0.01515561],\n",
       "       [-0.02334233,  0.01140161, -0.0496488 , -0.01364055, -0.00735918],\n",
       "       [ 0.01491161,  0.00368145,  0.02667694, -0.02119034,  0.0254939 ],\n",
       "       [ 0.0013513 ,  0.02646508, -0.00062754, -0.00493293,  0.00197504]],\n",
       "      dtype=float32)>"
      ]
     },
     "execution_count": 12,
     "metadata": {},
     "output_type": "execute_result"
    }
   ],
   "source": [
    "print(\"==============================================================\")\n",
    "print(\"Hasil Pembagian dari Variable RANDOM_TENSOR dan PRIME_TENSOR\")\n",
    "print(\"==============================================================\")\n",
    "tf.divide(random_tensor, prime_tensor)"
   ]
  },
  {
   "cell_type": "markdown",
   "id": "0c04416c",
   "metadata": {},
   "source": [
    "#### Operator Pangkat"
   ]
  },
  {
   "cell_type": "code",
   "execution_count": 13,
   "id": "e022df95",
   "metadata": {},
   "outputs": [
    {
     "name": "stdout",
     "output_type": "stream",
     "text": [
      "==============================================================\n",
      "Hasil Pangkat dari Variable RANDOM_TENSOR dan PRIME_TENSOR\n",
      "==============================================================\n"
     ]
    },
    {
     "data": {
      "text/plain": [
       "<tf.Tensor: shape=(5, 5), dtype=float32, numpy=\n",
       "array([[ 6.42515063e-01, -4.53080297e-01,  2.41945372e-07,\n",
       "         2.98888776e-02,  3.69215075e-11],\n",
       "       [ 2.84873240e-04,  2.56529810e+03, -5.08534395e-05,\n",
       "        -4.36607212e-01,  4.42758746e-11],\n",
       "       [-4.41249576e-05,  1.35274050e-14, -4.53312827e+12,\n",
       "        -1.08870385e-10, -2.13584709e-22],\n",
       "       [ 3.83202632e-06,  0.00000000e+00,  7.93258754e+12,\n",
       "        -1.57852498e+10,  1.97842301e+18],\n",
       "       [ 0.00000000e+00,  2.01241388e+25, -0.00000000e+00,\n",
       "        -1.52075394e-32,  0.00000000e+00]], dtype=float32)>"
      ]
     },
     "execution_count": 13,
     "metadata": {},
     "output_type": "execute_result"
    }
   ],
   "source": [
    "print(\"==============================================================\")\n",
    "print(\"Hasil Pangkat dari Variable RANDOM_TENSOR dan PRIME_TENSOR\")\n",
    "print(\"==============================================================\")\n",
    "tf.pow(random_tensor, prime_tensor)"
   ]
  },
  {
   "cell_type": "markdown",
   "id": "90977a79",
   "metadata": {},
   "source": [
    "### 5. Tampilkan nilai maksimum dan minimum dari variable random_tensor."
   ]
  },
  {
   "cell_type": "code",
   "execution_count": 22,
   "id": "09d0f70c",
   "metadata": {},
   "outputs": [
    {
     "name": "stdout",
     "output_type": "stream",
     "text": [
      "Nilai Maksimum\n",
      "Berdasarkan Kolom tf.Tensor([0 4 3 0 3], shape=(5,), dtype=int64)\n",
      "Berdasarkan Baris tf.Tensor([0 1 1 4 1], shape=(5,), dtype=int64)\n"
     ]
    }
   ],
   "source": [
    "max_random_kolom_tensor = tf.argmax(random_tensor, axis = 0)\n",
    "max_random_baris_tensor = tf.argmax(random_tensor, axis = 1)\n",
    "\n",
    "print(\"Nilai Maksimum\")\n",
    "print(\"Berdasarkan Kolom\", max_random_kolom_tensor)\n",
    "print(\"Berdasarkan Baris\", max_random_baris_tensor)"
   ]
  },
  {
   "cell_type": "code",
   "execution_count": 23,
   "id": "f752c163",
   "metadata": {},
   "outputs": [
    {
     "name": "stdout",
     "output_type": "stream",
     "text": [
      "Nilai Minimum\n",
      "Berdasarkan Kolom tf.Tensor([2 0 2 3 2], shape=(5,), dtype=int64)\n",
      "Berdasarkan Baris tf.Tensor([1 3 2 3 3], shape=(5,), dtype=int64)\n"
     ]
    }
   ],
   "source": [
    "min_random_kolom_tensor = tf.argmin(random_tensor, axis = 0)\n",
    "min_random_baris_tensor = tf.argmin(random_tensor, axis = 1)\n",
    "\n",
    "print(\"Nilai Minimum\")\n",
    "print(\"Berdasarkan Kolom\", min_random_kolom_tensor)\n",
    "print(\"Berdasarkan Baris\", min_random_baris_tensor)"
   ]
  },
  {
   "cell_type": "markdown",
   "id": "a85d465d",
   "metadata": {},
   "source": [
    "### 6. Tampilkan hasil dari penggabungan variable random_tensor dengan prime_tensor (concatenation)"
   ]
  },
  {
   "cell_type": "code",
   "execution_count": 16,
   "id": "9725e4f0",
   "metadata": {},
   "outputs": [
    {
     "data": {
      "text/plain": [
       "<tf.Tensor: shape=(10, 5), dtype=float32, numpy=\n",
       "array([[ 8.0157036e-01, -7.6805395e-01,  4.7505453e-02,  6.0564154e-01,\n",
       "         1.1260842e-01],\n",
       "       [ 5.3367996e-01,  1.5868560e+00, -5.9431523e-01, -9.6461004e-01,\n",
       "         4.3951255e-01],\n",
       "       [-7.2361231e-01,  4.2185962e-01, -2.0356009e+00, -5.8654350e-01,\n",
       "        -3.4588125e-01],\n",
       "       [ 7.9031557e-01,  2.1720563e-01,  1.6272932e+00, -1.4197527e+00,\n",
       "         1.8100669e+00],\n",
       "       [ 9.8644614e-02,  2.0907409e+00, -5.2086018e-02, -4.3903086e-01,\n",
       "         1.9157891e-01],\n",
       "       [ 2.0000000e+00,  3.0000000e+00,  5.0000000e+00,  7.0000000e+00,\n",
       "         1.1000000e+01],\n",
       "       [ 1.3000000e+01,  1.7000000e+01,  1.9000000e+01,  2.3000000e+01,\n",
       "         2.9000000e+01],\n",
       "       [ 3.1000000e+01,  3.7000000e+01,  4.1000000e+01,  4.3000000e+01,\n",
       "         4.7000000e+01],\n",
       "       [ 5.3000000e+01,  5.9000000e+01,  6.1000000e+01,  6.7000000e+01,\n",
       "         7.1000000e+01],\n",
       "       [ 7.3000000e+01,  7.9000000e+01,  8.3000000e+01,  8.9000000e+01,\n",
       "         9.7000000e+01]], dtype=float32)>"
      ]
     },
     "execution_count": 16,
     "metadata": {},
     "output_type": "execute_result"
    }
   ],
   "source": [
    "concat_random_prime = tf.concat([random_tensor, prime_tensor], axis = 0)\n",
    "concat_random_prime"
   ]
  },
  {
   "cell_type": "markdown",
   "id": "ccac36d3",
   "metadata": {},
   "source": [
    "### 7. Tampilkan hasil sorting dari kedua variable di atas (descending)"
   ]
  },
  {
   "cell_type": "markdown",
   "id": "d1be02c7",
   "metadata": {},
   "source": [
    "#### Sorting Secara Descending Random_Tensor"
   ]
  },
  {
   "cell_type": "code",
   "execution_count": 19,
   "id": "44be128f",
   "metadata": {},
   "outputs": [
    {
     "data": {
      "text/plain": [
       "<tf.Tensor: shape=(5, 5), dtype=float32, numpy=\n",
       "array([[ 0.80157036,  0.60564154,  0.11260842,  0.04750545, -0.76805395],\n",
       "       [ 1.586856  ,  0.53367996,  0.43951255, -0.59431523, -0.96461004],\n",
       "       [ 0.42185962, -0.34588125, -0.5865435 , -0.7236123 , -2.035601  ],\n",
       "       [ 1.8100669 ,  1.6272932 ,  0.79031557,  0.21720563, -1.4197527 ],\n",
       "       [ 2.090741  ,  0.19157891,  0.09864461, -0.05208602, -0.43903086]],\n",
       "      dtype=float32)>"
      ]
     },
     "execution_count": 19,
     "metadata": {},
     "output_type": "execute_result"
    }
   ],
   "source": [
    "random_tensor_desc = tf.sort(random_tensor, direction = \"DESCENDING\")\n",
    "random_tensor_desc"
   ]
  },
  {
   "cell_type": "markdown",
   "id": "7b656fc8",
   "metadata": {},
   "source": [
    "#### Sorting Secara Descending Prime_Tensor"
   ]
  },
  {
   "cell_type": "code",
   "execution_count": 20,
   "id": "f679ffa7",
   "metadata": {},
   "outputs": [
    {
     "data": {
      "text/plain": [
       "<tf.Tensor: shape=(5, 5), dtype=float32, numpy=\n",
       "array([[11.,  7.,  5.,  3.,  2.],\n",
       "       [29., 23., 19., 17., 13.],\n",
       "       [47., 43., 41., 37., 31.],\n",
       "       [71., 67., 61., 59., 53.],\n",
       "       [97., 89., 83., 79., 73.]], dtype=float32)>"
      ]
     },
     "execution_count": 20,
     "metadata": {},
     "output_type": "execute_result"
    }
   ],
   "source": [
    "prime_tensor_desc = tf.sort(prime_tensor, direction = \"DESCENDING\")\n",
    "prime_tensor_desc"
   ]
  },
  {
   "cell_type": "code",
   "execution_count": null,
   "id": "87670dd3",
   "metadata": {},
   "outputs": [],
   "source": []
  }
 ],
 "metadata": {
  "kernelspec": {
   "display_name": "Python 3 (ipykernel)",
   "language": "python",
   "name": "python3"
  },
  "language_info": {
   "codemirror_mode": {
    "name": "ipython",
    "version": 3
   },
   "file_extension": ".py",
   "mimetype": "text/x-python",
   "name": "python",
   "nbconvert_exporter": "python",
   "pygments_lexer": "ipython3",
   "version": "3.10.7"
  }
 },
 "nbformat": 4,
 "nbformat_minor": 5
}
